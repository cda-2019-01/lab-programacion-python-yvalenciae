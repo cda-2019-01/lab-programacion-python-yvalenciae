{
 "cells": [
  {
   "cell_type": "code",
   "execution_count": null,
   "metadata": {},
   "outputs": [],
   "source": [
    "#q01.py\n",
    "\n",
    "import csv\n",
    "file = open('data.csv', 'r')\n",
    "filecsv = csv.reader(file, delimiter= '\\t')\n",
    "lista = list()\n",
    "for x in filecsv:\n",
    "  lista.append(x)\n",
    "\n",
    "col2 = [int(x[1]) for x in lista]\n",
    "print(sum(col2))"
   ]
  },
  {
   "cell_type": "code",
   "execution_count": null,
   "metadata": {},
   "outputs": [],
   "source": [
    "#q01.py\n",
    "datos = open ('info.csv', 'r').readlines()\n",
    "datos = [z.replace ('\\n', '') for z in datos]\n",
    "datos = [z.split(',') for z in datos]\n",
    "\n",
    "col2 = [int(x[1]) for x in datos]\n",
    "print(sum(col2))"
   ]
  },
  {
   "cell_type": "code",
   "execution_count": 2,
   "metadata": {},
   "outputs": [
    {
     "name": "stdout",
     "output_type": "stream",
     "text": [
      "A,8\n",
      "B,7\n",
      "C,5\n",
      "D,6\n",
      "E,14\n"
     ]
    }
   ],
   "source": [
    "#q02.py\n",
    "datos = open ('info.csv', 'r').readlines()\n",
    "datos = [z.replace ('\\n', '') for z in datos]\n",
    "datos = [z.split(',') for z in datos]\n",
    "\n",
    "col2 = [str(x[0]) for x in datos]\n",
    "lista = list(set(col2))\n",
    "lista.sort()\n",
    "\n",
    "tabla = [(x,col2.count(x)) for x in lista]\n",
    "for i,j in tabla:\n",
    "    tabla = print (\"{},{}\".format(i,j))\n",
    "    "
   ]
  },
  {
   "cell_type": "code",
   "execution_count": null,
   "metadata": {},
   "outputs": [],
   "source": [
    "#q03.py\n",
    "import csv\n",
    "file = open('data.csv', 'r')\n",
    "filecsv = csv.reader(file, delimiter= '\\t')\n",
    "lista = list()\n",
    "for x in filecsv:\n",
    "  lista.append(x)\n",
    "\n",
    "letras = [str(x[0]) for x in lista]\n",
    "listaletras = list(set(letras))\n",
    "listaletras.sort()\n",
    "\n",
    "\n",
    "listagroup = [(lista[x][0], int(lista[x][1])) for x in range(len(lista))]\n",
    "\n",
    "for l in listaletras:\n",
    "    suma = (l,sum([x[1] for x in listagroup if x[0]==l]))\n",
    "    print ('{},{}'.format(suma[0],suma[1]))\n"
   ]
  },
  {
   "cell_type": "code",
   "execution_count": 3,
   "metadata": {},
   "outputs": [
    {
     "name": "stdout",
     "output_type": "stream",
     "text": [
      "A,8\n",
      "B,7\n",
      "C,5\n",
      "D,6\n",
      "E,14\n"
     ]
    }
   ],
   "source": [
    "#q02.py\n",
    "import csv\n",
    "file = open('data.csv', 'r')\n",
    "filecsv = csv.reader(file, delimiter= '\\t')\n",
    "lista = list()\n",
    "for x in filecsv:\n",
    "  lista.append(x)\n",
    "\n",
    "letras = [str(x[0]) for x in lista]\n",
    "lista = list(set(letras))\n",
    "lista.sort()\n",
    "\n",
    "tabla = [(x,letras.count(x)) for x in lista]\n",
    "for i,j in tabla:\n",
    "    tabla = print (\"{},{}\".format(i,j))\n",
    "\n"
   ]
  },
  {
   "cell_type": "code",
   "execution_count": 6,
   "metadata": {},
   "outputs": [
    {
     "name": "stdout",
     "output_type": "stream",
     "text": [
      "01,3\n",
      "02,4\n",
      "03,2\n",
      "04,4\n",
      "05,3\n",
      "06,3\n",
      "07,5\n",
      "08,6\n",
      "09,3\n",
      "10,2\n",
      "11,2\n",
      "12,3\n"
     ]
    }
   ],
   "source": [
    "#q04\n",
    "import csv\n",
    "file = open('data.csv', 'r')\n",
    "filecsv = csv.reader(file, delimiter= '\\t')\n",
    "lista = list()\n",
    "for x in filecsv:\n",
    "  lista.append(x)\n",
    "\n",
    "fechas = [x[2] for x in lista]\n",
    "meses = [date[5:7] for date in fechas]\n",
    "mes = list(set(meses))\n",
    "mes.sort()\n",
    "mes\n",
    "\n",
    "solucion = [(m ,meses.count(m)) for m in mes]\n",
    "for i,j in solucion:\n",
    "    print (\"{},{}\".format(i,j))"
   ]
  },
  {
   "cell_type": "code",
   "execution_count": null,
   "metadata": {},
   "outputs": [],
   "source": [
    "#q05\n",
    "\n",
    "import csv\n",
    "file = open('data.csv', 'r')\n",
    "filecsv = csv.reader(file, delimiter= '\\t')\n",
    "lista = list()\n",
    "for x in filecsv:\n",
    "  lista.append(x)\n",
    "\n",
    "letras = [str(x[0]) for x in lista]\n",
    "listaletras = list(set(letras))\n",
    "listaletras.sort()\n",
    "\n",
    "\n",
    "listagroup = [(lista[x][0], int(lista[x][1])) for x in range(len(lista))]\n",
    "\n",
    "for l in listaletras:\n",
    "    maxmin = (l,max([x[1] for x in listagroup if x[0]==l]), min([x[1] for x in listagroup if x[0]==l]))\n",
    "    print ('{},{},{}'.format(maxmin[0],maxmin[1],maxmin[2]))\n"
   ]
  },
  {
   "cell_type": "code",
   "execution_count": 1,
   "metadata": {},
   "outputs": [
    {
     "name": "stdout",
     "output_type": "stream",
     "text": [
      "aaa,0,9\n",
      "bbb,0,9\n",
      "ccc,0,9\n",
      "ddd,0,9\n",
      "eee,0,7\n",
      "fff,0,9\n",
      "ggg,0,9\n",
      "hhh,0,9\n",
      "iii,0,9\n",
      "jjj,0,9\n"
     ]
    }
   ],
   "source": [
    "#q06\n",
    "import csv\n",
    "file = open('data.csv', 'r')\n",
    "filecsv = csv.reader(file, delimiter= '\\t')\n",
    "lista = list()\n",
    "for x in filecsv:\n",
    "  lista.append(x)\n",
    "\n",
    "cadena = [str(x[4]).split(',') for x in lista]\n",
    "\n",
    "listascad = [c for lista in cadena for c in lista]\n",
    "tabla= [(dato.split(':')) for dato in listascad]\n",
    "solo_letras = [l[0:3] for l in listascad]\n",
    "letras_unicas = list(set (solo_letras))\n",
    "letras_unicas.sort()\n",
    "letras_unicas\n",
    "\n",
    "\n",
    "for l in letras_unicas:\n",
    "    maxmin = (l,min([x[1] for x in tabla if x[0]==l]), max([x[1] for x in tabla if x[0]==l]))\n",
    "    print ('{},{},{}'.format(maxmin[0],maxmin[1],maxmin[2]))\n",
    "\n"
   ]
  },
  {
   "cell_type": "code",
   "execution_count": null,
   "metadata": {},
   "outputs": [],
   "source": [
    "#q06\n",
    "import csv\n",
    "file = open('data.csv', 'r')\n",
    "filecsv = csv.reader(file, delimiter= '\\t')\n",
    "lista = list()\n",
    "for x in filecsv:\n",
    "  lista.append(x)\n",
    "\n",
    "cadena = [x[4].split(',') for x in lista]\n",
    "\n",
    "listascad = [c for lista in cadena for c in lista]\n",
    "tabla= [(dato.split(':')) for dato in listascad]\n",
    "solo_letras = [l[0:3] for l in listascad]\n",
    "letras_unicas = list(set (solo_letras))\n",
    "letras_unicas.sort()\n",
    "letras_unicas\n",
    "\n",
    "listagroup = [(tabla[x][0], int(tabla[x][1])) for x in range(len(tabla))]\n",
    "\n",
    "for l in letras_unicas:\n",
    "    maxmin = (l,min([x[1] for x in tabla if x[0]==l]), max([x[1] for x in tabla if x[0]==l]))\n",
    "    print ('{},{},{}'.format(maxmin[0],maxmin[1],maxmin[2]))"
   ]
  },
  {
   "cell_type": "code",
   "execution_count": null,
   "metadata": {},
   "outputs": [],
   "source": [
    "import csv\n",
    "file = open('data.csv', 'r')\n",
    "filecsv = csv.reader(file, delimiter= '\\t')\n",
    "lista = list()\n",
    "for x in filecsv:\n",
    "  lista.append(x)\n",
    "\n",
    "cadena = [x[4].split(',') for x in lista]\n",
    "lista = list()\n",
    "lista1 = [x for x in cadena]\n",
    "lista2 = [x for x in lista1]\n",
    "\n",
    "for y in sublist:\n",
    " lista.append(y)\n",
    "\n",
    "cadena"
   ]
  },
  {
   "cell_type": "code",
   "execution_count": null,
   "metadata": {},
   "outputs": [],
   "source": []
  },
  {
   "cell_type": "code",
   "execution_count": null,
   "metadata": {},
   "outputs": [],
   "source": [
    "#q07\n",
    "import csv\n",
    "file = open('data.csv', 'r')\n",
    "filecsv = csv.reader(file, delimiter= '\\t')\n",
    "lista = list()\n",
    "for x in filecsv:\n",
    "  lista.append(x)\n",
    "\n",
    "numeros = [(x[1]) for x in lista]\n",
    "letras = [str(x[0]) for x in lista]\n",
    "entrada = [(x[1],str(x[0])) for x in lista]\n",
    "\n",
    "Numero_unicos = list(set(numeros))\n",
    "Numero_unicos.sort()\n",
    "\n",
    "solucion = [(x,[y for z,y in entrada if x==z]) for x in Numero_unicos]\n",
    "\n",
    "for x in solucion:\n",
    "  print (x)"
   ]
  },
  {
   "cell_type": "code",
   "execution_count": null,
   "metadata": {},
   "outputs": [],
   "source": [
    "#q08\n",
    "import csv\n",
    "file = open('data.csv', 'r')\n",
    "filecsv = csv.reader(file, delimiter= '\\t')\n",
    "lista = list()\n",
    "for x in filecsv:\n",
    "  lista.append(x)\n",
    "\n",
    "numeros = [(x[1]) for x in lista]\n",
    "letras = [str(x[0]) for x in lista]\n",
    "entrada = [(x[1],str(x[0])) for x in lista]\n",
    "\n",
    "Numero_unicos = list(set(numeros))\n",
    "Numero_unicos.sort()\n",
    "\n",
    "solucion = [(x, [y for z,y in entrada if x==z]) for x in Numero_unicos]\n",
    "solucion = [(x, sorted(y)) for x,y in solucion]\n",
    "\n",
    "\n",
    "for x in solucion:\n",
    "  print (x)"
   ]
  },
  {
   "cell_type": "code",
   "execution_count": null,
   "metadata": {},
   "outputs": [],
   "source": [
    "#q09\n",
    "import csv\n",
    "file = open('data.csv', 'r')\n",
    "filecsv = csv.reader(file, delimiter= '\\t')\n",
    "lista = list()\n",
    "for x in filecsv:\n",
    "  lista.append(x)\n",
    "\n",
    "numeros = [(x[1]) for x in lista]\n",
    "letras = [str(x[0]) for x in lista]\n",
    "entrada = [(x[1],str(x[0])) for x in lista]\n",
    "\n",
    "Numero_unicos = list(set(numeros))\n",
    "Numero_unicos.sort()\n",
    "\n",
    "solucion = [(x, [y for z,y in entrada if x==z]) for x in Numero_unicos]\n",
    "solucion = [(x, list(set(y))) for x,y in solucion]\n",
    "solucion = [(x, sorted(y)) for x,y in solucion]\n",
    "\n",
    "for x in solucion:\n",
    "  print (x)"
   ]
  },
  {
   "cell_type": "code",
   "execution_count": null,
   "metadata": {},
   "outputs": [],
   "source": [
    "#q09\n",
    "import csv\n",
    "file = open('data.csv', 'r')\n",
    "filecsv = csv.reader(file, delimiter= '\\t')\n",
    "lista = list()\n",
    "for x in filecsv:\n",
    "  lista.append(x)\n",
    "\n",
    "cadena = [x[4].split(',') for x in lista]\n",
    "\n",
    "listascad = [c for lista in cadena for c in lista]\n",
    "tabla= [(dato.split(':')) for dato in listascad]\n",
    "solo_letras = [l[0:3] for l in listascad]\n",
    "letras_unicas = list(set (solo_letras))\n",
    "letras_unicas.sort()\n",
    "letras_unicas\n",
    "\n",
    "solucion = [(x,solo_letras.count(x)) for x in letras_unicas]\n",
    "\n",
    "for tabla in solucion:\n",
    "     solucion = print (\"{},{}\".format(tabla[0],tabla[1]))\n"
   ]
  },
  {
   "cell_type": "code",
   "execution_count": null,
   "metadata": {},
   "outputs": [],
   "source": [
    "import csv\n",
    "file = open('data1.csv', 'r')\n",
    "filecsv = csv.reader(file, delimiter= '\\t')\n",
    "lista = list()\n",
    "for x in filecsv:\n",
    "  lista.append(x)\n",
    "\n",
    "lista"
   ]
  },
  {
   "cell_type": "code",
   "execution_count": null,
   "metadata": {},
   "outputs": [],
   "source": [
    "#q011\n",
    "import csv\n",
    "file = open('data1.csv', 'r')\n",
    "filecsv = csv.reader(file, delimiter= '\\t')\n",
    "lista = list()\n",
    "for x in filecsv:\n",
    "  lista.append(x)\n",
    "\n",
    "solucion = [(i[0],len(i[3].split(',')),len(i[4].split(','))) for i in lista]\n",
    "for i,j,k in solucion:\n",
    "    print (\"{},{},{}\".format(i,j,k))\n"
   ]
  },
  {
   "cell_type": "code",
   "execution_count": 5,
   "metadata": {},
   "outputs": [
    {
     "name": "stdout",
     "output_type": "stream",
     "text": [
      "a,114\n",
      "b,40\n",
      "c,91\n",
      "d,65\n",
      "e,79\n",
      "f,110\n",
      "g,35\n"
     ]
    }
   ],
   "source": [
    "#q012\n",
    "import csv\n",
    "file = open('data.csv', 'r')\n",
    "filecsv = csv.reader(file, delimiter= '\\t')\n",
    "lista = list()\n",
    "for x in filecsv:\n",
    "  lista.append(x)\n",
    "\n",
    "tabla = []\n",
    "solo_letra = []\n",
    "for l in lista:  \n",
    "    t = [(int(l[1]),letra) for letra in l[3].split(',')]\n",
    "    sl = [letra for letra in l[3].split(',')]\n",
    "    tabla += t\n",
    "    solo_letra += sl\n",
    "\n",
    "solo_letra_uni = list(set(solo_letra))\n",
    "solo_letra_uni.sort()\n",
    "\n",
    "\n",
    "for l in solo_letra_uni:\n",
    "    a=0\n",
    "    for i,j in tabla:\n",
    "        if l == j:\n",
    "            a += i\n",
    "    print (\"{},{}\".format(l,a))"
   ]
  },
  {
   "cell_type": "code",
   "execution_count": 276,
   "metadata": {},
   "outputs": [
    {
     "name": "stdout",
     "output_type": "stream",
     "text": [
      "E,22\n",
      "A,14\n",
      "B,14\n",
      "A,22\n",
      "C,18\n",
      "A,14\n",
      "A,23\n",
      "B,6\n",
      "E,31\n",
      "B,30\n",
      "C,13\n",
      "C,22\n",
      "D,24\n",
      "E,14\n",
      "B,18\n",
      "D,18\n",
      "E,29\n",
      "D,18\n",
      "E,16\n",
      "E,13\n",
      "E,15\n",
      "E,20\n",
      "D,12\n",
      "A,20\n",
      "E,31\n",
      "E,21\n",
      "A,9\n",
      "E,25\n",
      "A,21\n",
      "C,20\n",
      "A,23\n",
      "D,32\n",
      "E,11\n",
      "B,24\n",
      "B,24\n",
      "D,8\n",
      "B,18\n",
      "C,8\n",
      "E,11\n",
      "E,16\n"
     ]
    }
   ],
   "source": [
    "#q13.py\n",
    "import csv\n",
    "file = open('data1.csv', 'r')\n",
    "filecsv = csv.reader(file, delimiter= '\\t')\n",
    "lista = list()\n",
    "for x in filecsv:\n",
    "  lista.append(x)\n",
    "\n",
    "solucion= [(i[0],i[4].split(',')) for i in lista]\n",
    "solucion\n",
    "\n",
    "for i in range(len(solucion)):\n",
    "    a=0\n",
    "    for j in range(len(solucion[i][1])):\n",
    "        \n",
    "        a += int(solucion[i][1][j][-1])\n",
    "    print (\"{},{}\".format(tabla1[i][0],a))"
   ]
  },
  {
   "cell_type": "code",
   "execution_count": 273,
   "metadata": {},
   "outputs": [
    {
     "data": {
      "text/plain": [
       "3"
      ]
     },
     "execution_count": 273,
     "metadata": {},
     "output_type": "execute_result"
    }
   ],
   "source": [
    "int(tabla1[1][1][2][-1])"
   ]
  },
  {
   "cell_type": "code",
   "execution_count": 275,
   "metadata": {},
   "outputs": [
    {
     "data": {
      "text/plain": [
       "5"
      ]
     },
     "execution_count": 275,
     "metadata": {},
     "output_type": "execute_result"
    }
   ],
   "source": [
    "len(solucion[0][1])"
   ]
  },
  {
   "cell_type": "code",
   "execution_count": null,
   "metadata": {},
   "outputs": [],
   "source": []
  }
 ],
 "metadata": {
  "kernelspec": {
   "display_name": "Python 3",
   "language": "python",
   "name": "python3"
  },
  "language_info": {
   "codemirror_mode": {
    "name": "ipython",
    "version": 3
   },
   "file_extension": ".py",
   "mimetype": "text/x-python",
   "name": "python",
   "nbconvert_exporter": "python",
   "pygments_lexer": "ipython3",
   "version": "3.6.7"
  }
 },
 "nbformat": 4,
 "nbformat_minor": 2
}
